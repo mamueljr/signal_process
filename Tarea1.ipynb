{
  "nbformat": 4,
  "nbformat_minor": 0,
  "metadata": {
    "colab": {
      "name": "Tarea1.ipynb",
      "provenance": [],
      "authorship_tag": "ABX9TyPSfQDiFzSyHniXGdBrFTKU",
      "include_colab_link": true
    },
    "kernelspec": {
      "name": "python3",
      "display_name": "Python 3"
    },
    "language_info": {
      "name": "python"
    }
  },
  "cells": [
    {
      "cell_type": "markdown",
      "metadata": {
        "id": "view-in-github",
        "colab_type": "text"
      },
      "source": [
        "<a href=\"https://colab.research.google.com/github/mamueljr/signal_process/blob/main/Tarea1.ipynb\" target=\"_parent\"><img src=\"https://colab.research.google.com/assets/colab-badge.svg\" alt=\"Open In Colab\"/></a>"
      ]
    },
    {
      "cell_type": "markdown",
      "source": [
        "#TAREA 1: SERIES DE FOURIER\n",
        "\n",
        "##Encontrar los coeficientes de la serie de Fourier a partir de la siguiente señal del tiempo periódica.\n",
        "\n",
        "x(t) = t, definida en el intervalo de tiempo (Periodo de la señal) 0 < t < 1 segundos.\n"
      ],
      "metadata": {
        "id": "kvx9EWk-nk2F"
      }
    },
    {
      "cell_type": "markdown",
      "source": [
        "\n",
        "https://en.wikibooks.org/wiki/LaTeX/Mathematics\n",
        "\n",
        "###$x(t)=t ; 0<t<1$\n",
        "\n",
        "\n",
        "##$$x(t) =\n",
        "  \\begin{cases}\n",
        "    1       & \\quad 0<t<\\frac{1}{2} \\\\\n",
        "    0  & \\quad \\frac{1}{2} < t < 1\n",
        "  \\end{cases}\n",
        "$$\n",
        "\n",
        "####$T=1 \\\\Fo=\\frac{1}{T} =1 $\n",
        "\n",
        "##Desarrollo\n",
        "### *Resolviendo $a _o$*\n",
        "\n",
        "##$$a _0 = \\frac{1}{T} \\Bigg[\\int_{_0}^{\\frac{1}{2}} (1)dt + \\int_{_\\frac{1}{2}}^{1} (0)dt)\\Bigg]= \\frac{1}{T} \\Bigg[\\int_{_0}^{\\frac{1}{2}} (1)dt\\Bigg] = \\frac{1}{T} \\int _{_0}^{\\frac{1}{2}}dt=\\frac{t}{T} \\Bigg|_0 ^\\frac{1}{2}= \\frac{\\frac{1}{2} - 0}{T}=\\frac{\\frac{1}{2}}{1}=\\frac{1}{2} $$\n",
        "\n",
        "##Sabiendo que:\n",
        "#$a _k=\\frac{2}{T} \\int_{T} x(t)cos(2 \\pi Kfot)dt \\\\ b _k = \\frac{2}{T} \\int _{T} x(t) sen (2 \\pi Kfo t)dt $\n",
        "\n",
        "##*Resolviendo X[k]*\n",
        "\n",
        "##$$X[k]=\\frac {a _k}{2}-i \\frac{b _k}{2}\\\\ X[k]=\\frac{1}{T} \\int_{T} x(t)e^{-i2 \\pi Kfot}=\\frac{1}{T} \\Bigg( \\int_{_0}^{\\frac{1}{2}} (1)e^{-i2 \\pi Kfot} dt + \\int_{_\\frac{1}{2}}^{1} (0)e^{-i2 \\pi Kfot} dt \\Bigg)=\\frac{1}{T} \\Bigg( \\int_{_0}^{\\frac{1}{2}} (1)e^{-i2 \\pi Kfot} dt\\Bigg) $$\n",
        "$f(o)=1 \\\\ T=1$\n",
        "\n",
        "#$$\n",
        "X[k]=-\\frac{e^{-i2 \\pi kfot}}{i2 \\pi kfoT} \\Bigg| _{_0} ^\\frac{1}{2}=-\\frac{e^{-i2 \\pi kt}}{i2 \\pi kT} \\Bigg| _{_0} ^\\frac{1}{2}\n",
        "$$\n",
        "#$$\n",
        "X[k]=-\\frac{1}{i2 \\pi k} \\Bigg[ e^{-i2 \\pi k(0)} - e^{\\frac{-i2 \\pi k}{2}} \\Bigg ] =-\\frac{1}{i2 \\pi k} \\Bigg[ e^{0} - e^{-i \\pi k} \\Bigg ]\n",
        "$$\n",
        "#$$\n",
        "X[k]=\\frac {\\cos \\pi k}{\\pi k}\n",
        "$$\n",
        "##$$\n",
        "X[k]=\\frac{ak}{2}- i\\frac{bk}{2} \\\\ \\frac {\\cos{\\pi k}}{\\pi k}=\\frac{ak}{2}- i\\frac{bk}{2} \\\\ \\frac{ak}{2}=\\frac{cos \\pi k}{\\pi k} \\text{  y} \\frac{-ibk}{2}=0 ;bk=0 \\\\ a_k=\\frac{2cos \\pi k}{\\pi k}\n",
        "$$\n",
        "\n"
      ],
      "metadata": {
        "id": "LhtC0l6KECa-"
      }
    }
  ]
}